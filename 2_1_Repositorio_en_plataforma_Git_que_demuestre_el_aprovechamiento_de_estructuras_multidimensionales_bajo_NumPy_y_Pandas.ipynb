{
  "nbformat": 4,
  "nbformat_minor": 0,
  "metadata": {
    "colab": {
      "provenance": [],
      "authorship_tag": "ABX9TyODJgrvRiIBP9yQA1GUJa5b",
      "include_colab_link": true
    },
    "kernelspec": {
      "name": "python3",
      "display_name": "Python 3"
    },
    "language_info": {
      "name": "python"
    }
  },
  "cells": [
    {
      "cell_type": "markdown",
      "metadata": {
        "id": "view-in-github",
        "colab_type": "text"
      },
      "source": [
        "<a href=\"https://colab.research.google.com/github/juansan0098-afk/estructuras_numpy_pandas/blob/main/2_1_Repositorio_en_plataforma_Git_que_demuestre_el_aprovechamiento_de_estructuras_multidimensionales_bajo_NumPy_y_Pandas.ipynb\" target=\"_parent\"><img src=\"https://colab.research.google.com/assets/colab-badge.svg\" alt=\"Open In Colab\"/></a>"
      ]
    },
    {
      "cell_type": "code",
      "source": [
        "# Estructuras de Datos con NumPy y Pandas #\n",
        "\n",
        "# Een este cuaderno demuestra la creación, manipulación y aplicación de estructuras de datos\n",
        "# vectoriales y multidimensionales usando NumPy y pandas.\n",
        "\n",
        "# Incluye ejemplos prácticos y casos de aplicación para procesamiento de datos en memoria.\n",
        "\n"
      ],
      "metadata": {
        "id": "vMJkD8XFAU5M"
      },
      "execution_count": 13,
      "outputs": []
    },
    {
      "cell_type": "code",
      "execution_count": 14,
      "metadata": {
        "colab": {
          "base_uri": "https://localhost:8080/"
        },
        "collapsed": true,
        "id": "9KRu6or7-VpJ",
        "outputId": "b301f593-fb97-4078-b4d3-d3c7bbab5fbc"
      },
      "outputs": [
        {
          "output_type": "stream",
          "name": "stdout",
          "text": [
            "Vector NumPy: [10 20 30 40 50]\n",
            "Suma de elementos: 150\n",
            "Media: 30.0\n",
            "Máximo: 50\n",
            "\n",
            "Matriz NumPy:\n",
            " [[1 2 3]\n",
            " [4 5 6]\n",
            " [7 8 9]]\n",
            "Transpuesta:\n",
            " [[1 4 7]\n",
            " [2 5 8]\n",
            " [3 6 9]]\n",
            "Producto punto:\n",
            " [[ 30  36  42]\n",
            " [ 66  81  96]\n",
            " [102 126 150]]\n"
          ]
        }
      ],
      "source": [
        "import numpy as np\n",
        "\n",
        "vector = np.array([10, 20, 30, 40, 50])\n",
        "print(\"Vector NumPy:\", vector)\n",
        "print(\"Suma de elementos:\", np.sum(vector))\n",
        "print(\"Media:\", np.mean(vector))\n",
        "print(\"Máximo:\", np.max(vector))\n",
        "\n",
        "matriz = np.array([[1, 2, 3],\n",
        "                   [4, 5, 6],\n",
        "                   [7, 8, 9]])\n",
        "print(\"\\nMatriz NumPy:\\n\", matriz)\n",
        "print(\"Transpuesta:\\n\", matriz.T)\n",
        "print(\"Producto punto:\\n\", np.dot(matriz, matriz))\n"
      ]
    },
    {
      "cell_type": "code",
      "source": [
        "import pandas as pd\n",
        "\n",
        "serie = pd.Series([100, 200, 300], index=[\"A\", \"B\", \"C\"])\n",
        "print(\"Serie Pandas:\\n\", serie)\n",
        "\n",
        "data = {\n",
        "    \"Nombre\": [\"Ana\", \"Luis\", \"María\", \"Pedro\"],\n",
        "    \"Edad\": [23, 25, 22, 24],\n",
        "    \"Promedio\": [9.1, 8.7, 9.5, 8.9]\n",
        "}\n",
        "df = pd.DataFrame(data)\n",
        "print(\"\\nDataFrame Pandas:\\n\", df)\n",
        "\n",
        "print(\"\\nPromedio de edades:\", df[\"Edad\"].mean())\n",
        "print(\"\\nOrdenado por Promedio:\\n\", df.sort_values(\"Promedio\", ascending=False))\n",
        "print(\"\\nAlumnos con promedio >= 9:\\n\", df[df[\"Promedio\"] >= 9])\n"
      ],
      "metadata": {
        "colab": {
          "base_uri": "https://localhost:8080/"
        },
        "id": "eeXTUpdLBGeH",
        "outputId": "69e0414d-52ac-495d-a0d1-241e50e6d3f2"
      },
      "execution_count": 15,
      "outputs": [
        {
          "output_type": "stream",
          "name": "stdout",
          "text": [
            "Serie Pandas:\n",
            " A    100\n",
            "B    200\n",
            "C    300\n",
            "dtype: int64\n",
            "\n",
            "DataFrame Pandas:\n",
            "   Nombre  Edad  Promedio\n",
            "0    Ana    23       9.1\n",
            "1   Luis    25       8.7\n",
            "2  María    22       9.5\n",
            "3  Pedro    24       8.9\n",
            "\n",
            "Promedio de edades: 23.5\n",
            "\n",
            "Ordenado por Promedio:\n",
            "   Nombre  Edad  Promedio\n",
            "2  María    22       9.5\n",
            "0    Ana    23       9.1\n",
            "3  Pedro    24       8.9\n",
            "1   Luis    25       8.7\n",
            "\n",
            "Alumnos con promedio >= 9:\n",
            "   Nombre  Edad  Promedio\n",
            "0    Ana    23       9.1\n",
            "2  María    22       9.5\n"
          ]
        }
      ]
    },
    {
      "cell_type": "code",
      "source": [
        "sensores = np.random.randint(0, 100, size=(5, 3))\n",
        "print(\"Datos de sensores (NumPy):\\n\", sensores)\n",
        "\n",
        "ventas = pd.DataFrame({\n",
        "    \"Producto\": [\"A\", \"B\", \"C\", \"A\", \"B\", \"C\"],\n",
        "    \"Cantidad\": [10, 20, 15, 12, 18, 22],\n",
        "    \"Precio\": [100, 200, 150, 100, 200, 150]\n",
        "})\n",
        "ventas[\"Total\"] = ventas[\"Cantidad\"] * ventas[\"Precio\"]\n",
        "print(\"\\nVentas (Pandas):\\n\", ventas)\n",
        "print(\"\\nTotal vendido por producto:\\n\", ventas.groupby(\"Producto\")[\"Total\"].sum())\n"
      ],
      "metadata": {
        "colab": {
          "base_uri": "https://localhost:8080/"
        },
        "id": "LdtNEvqSBLJK",
        "outputId": "2925ee65-cad3-47fb-d0c3-c506e5829448"
      },
      "execution_count": 16,
      "outputs": [
        {
          "output_type": "stream",
          "name": "stdout",
          "text": [
            "Datos de sensores (NumPy):\n",
            " [[39 59 64]\n",
            " [63  2  1]\n",
            " [45 19 69]\n",
            " [38 79 33]\n",
            " [11 80 89]]\n",
            "\n",
            "Ventas (Pandas):\n",
            "   Producto  Cantidad  Precio  Total\n",
            "0        A        10     100   1000\n",
            "1        B        20     200   4000\n",
            "2        C        15     150   2250\n",
            "3        A        12     100   1200\n",
            "4        B        18     200   3600\n",
            "5        C        22     150   3300\n",
            "\n",
            "Total vendido por producto:\n",
            " Producto\n",
            "A    2200\n",
            "B    7600\n",
            "C    5550\n",
            "Name: Total, dtype: int64\n"
          ]
        }
      ]
    },
    {
      "cell_type": "code",
      "source": [
        "from google.colab import drive\n",
        "drive.mount('/content/drive')"
      ],
      "metadata": {
        "colab": {
          "base_uri": "https://localhost:8080/"
        },
        "id": "mv_yG7kpBus4",
        "outputId": "6ee096d0-aa17-44e4-cf95-bb262ec7a5a8"
      },
      "execution_count": 17,
      "outputs": [
        {
          "output_type": "stream",
          "name": "stdout",
          "text": [
            "Drive already mounted at /content/drive; to attempt to forcibly remount, call drive.mount(\"/content/drive\", force_remount=True).\n"
          ]
        }
      ]
    }
  ]
}